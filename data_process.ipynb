{
 "cells": [
  {
   "cell_type": "code",
   "execution_count": 75,
   "metadata": {},
   "outputs": [],
   "source": [
    "import os\n",
    "from glob import glob\n",
    "import pandas as pd\n",
    "import numpy as np\n",
    "import dask.dataframe as dd\n",
    "import matplotlib.pyplot as plt\n",
    "from datetime import datetime\n",
    "\n",
    "# from matplotlib import font_manager, rc\n",
    "# font_path = \"C:/Windows/Fonts/NGULIM.TTF\"\n",
    "# font = font_manager.FontProperties(fname=font_path).get_name()\n",
    "# rc('font', family=font)"
   ]
  },
  {
   "cell_type": "markdown",
   "metadata": {},
   "source": [
    "* data generation and merging"
   ]
  },
  {
   "cell_type": "code",
   "execution_count": 100,
   "metadata": {},
   "outputs": [
    {
     "name": "stdout",
     "output_type": "stream",
     "text": [
      "Wall time: 2min 12s\n"
     ]
    },
    {
     "data": {
      "text/plain": [
       "['c:/Users/Go/OneDrive - UOS/allrepos/multi_agent_awac/data/labeled_data_atmos/남부_거실.csv',\n",
       " 'c:/Users/Go/OneDrive - UOS/allrepos/multi_agent_awac/data/labeled_data_atmos/남부_방1.csv',\n",
       " 'c:/Users/Go/OneDrive - UOS/allrepos/multi_agent_awac/data/labeled_data_atmos/남부_방2.csv',\n",
       " 'c:/Users/Go/OneDrive - UOS/allrepos/multi_agent_awac/data/labeled_data_atmos/남부_방3.csv',\n",
       " 'c:/Users/Go/OneDrive - UOS/allrepos/multi_agent_awac/data/labeled_data_atmos/남부_방4.csv',\n",
       " 'c:/Users/Go/OneDrive - UOS/allrepos/multi_agent_awac/data/labeled_data_atmos/남부_방5.csv',\n",
       " 'c:/Users/Go/OneDrive - UOS/allrepos/multi_agent_awac/data/labeled_data_atmos/남부_방6.csv',\n",
       " 'c:/Users/Go/OneDrive - UOS/allrepos/multi_agent_awac/data/labeled_data_atmos/남부_방7.csv',\n",
       " 'c:/Users/Go/OneDrive - UOS/allrepos/multi_agent_awac/data/labeled_data_atmos/남부_부엌.csv',\n",
       " 'c:/Users/Go/OneDrive - UOS/allrepos/multi_agent_awac/data/labeled_data_atmos/동화_거실.csv',\n",
       " 'c:/Users/Go/OneDrive - UOS/allrepos/multi_agent_awac/data/labeled_data_atmos/동화_방1.csv',\n",
       " 'c:/Users/Go/OneDrive - UOS/allrepos/multi_agent_awac/data/labeled_data_atmos/동화_방2.csv',\n",
       " 'c:/Users/Go/OneDrive - UOS/allrepos/multi_agent_awac/data/labeled_data_atmos/동화_방3.csv',\n",
       " 'c:/Users/Go/OneDrive - UOS/allrepos/multi_agent_awac/data/labeled_data_atmos/동화_방4.csv',\n",
       " 'c:/Users/Go/OneDrive - UOS/allrepos/multi_agent_awac/data/labeled_data_atmos/동화_부엌.csv',\n",
       " 'c:/Users/Go/OneDrive - UOS/allrepos/multi_agent_awac/data/labeled_data_atmos/소리엘_2층_1번방.csv',\n",
       " 'c:/Users/Go/OneDrive - UOS/allrepos/multi_agent_awac/data/labeled_data_atmos/소리엘_2층_2번방.csv',\n",
       " 'c:/Users/Go/OneDrive - UOS/allrepos/multi_agent_awac/data/labeled_data_atmos/소리엘_2층_거실.csv',\n",
       " 'c:/Users/Go/OneDrive - UOS/allrepos/multi_agent_awac/data/labeled_data_atmos/소리엘_3층_1번방.csv',\n",
       " 'c:/Users/Go/OneDrive - UOS/allrepos/multi_agent_awac/data/labeled_data_atmos/소리엘_3층_2번방.csv',\n",
       " 'c:/Users/Go/OneDrive - UOS/allrepos/multi_agent_awac/data/labeled_data_atmos/소리엘_3층_3번방.csv',\n",
       " 'c:/Users/Go/OneDrive - UOS/allrepos/multi_agent_awac/data/labeled_data_atmos/소리엘_3층_4번방.csv',\n",
       " 'c:/Users/Go/OneDrive - UOS/allrepos/multi_agent_awac/data/labeled_data_atmos/솜사탕_거실.csv',\n",
       " 'c:/Users/Go/OneDrive - UOS/allrepos/multi_agent_awac/data/labeled_data_atmos/솜사탕_방1.csv',\n",
       " 'c:/Users/Go/OneDrive - UOS/allrepos/multi_agent_awac/data/labeled_data_atmos/솜사탕_방2.csv',\n",
       " 'c:/Users/Go/OneDrive - UOS/allrepos/multi_agent_awac/data/labeled_data_atmos/솜사탕_방3.csv',\n",
       " 'c:/Users/Go/OneDrive - UOS/allrepos/multi_agent_awac/data/labeled_data_atmos/솜사탕_방4.csv',\n",
       " 'c:/Users/Go/OneDrive - UOS/allrepos/multi_agent_awac/data/labeled_data_atmos/솜사탕_부엌.csv',\n",
       " 'c:/Users/Go/OneDrive - UOS/allrepos/multi_agent_awac/data/labeled_data_atmos/예나_거실.csv',\n",
       " 'c:/Users/Go/OneDrive - UOS/allrepos/multi_agent_awac/data/labeled_data_atmos/예나_방1.csv',\n",
       " 'c:/Users/Go/OneDrive - UOS/allrepos/multi_agent_awac/data/labeled_data_atmos/예나_방3.csv',\n",
       " 'c:/Users/Go/OneDrive - UOS/allrepos/multi_agent_awac/data/labeled_data_atmos/예나_방4.csv',\n",
       " 'c:/Users/Go/OneDrive - UOS/allrepos/multi_agent_awac/data/labeled_data_atmos/예나_부엌.csv']"
      ]
     },
     "execution_count": 100,
     "metadata": {},
     "output_type": "execute_result"
    }
   ],
   "source": [
    "%%time\n",
    "path = os.getcwd()\n",
    "test_data = dd.read_csv(os.path.join(path,\"data\",\"sensing_data\",\"*\",\"*\"),encoding='cp949',parse_dates=['T/D'])\n",
    "atmos_data = dd.read_csv(os.path.join(path,\"data\",\"atmos_monitoring_data\",\"*\"),encoding='cp949',parse_dates=['일시'])\n",
    "\n",
    "# test_data[\"time_of_day\"] = dd.to_datetime(test_data['T/D'].dt.time.astype(str))\n",
    "test_data[\"time_of_day\"] = dd.to_datetime(test_data['T/D']).dt.time.astype(str)\n",
    "test_data[\"time_index\"] = dd.to_datetime(test_data['T/D']).dt.floor('H')\n",
    "atmos_data[\"time_index\"] = dd.to_datetime(atmos_data['일시']).dt.floor('H')\n",
    "atmos_data = atmos_data.loc[atmos_data.지점명 == '인천',['풍속(m/s)','풍향(16방위)','time_index']]\n",
    "\n",
    "## 라벨링 ##\n",
    "test_data['vent'] = 0\n",
    "test_data['people'] = 0\n",
    "test_data['heat'] = 0\n",
    "\n",
    "test_data['vent'] = test_data['vent'].mask((test_data.time_of_day >= \"12:00\") & (test_data.time_of_day < \"18:00\"),1)\n",
    "test_data['people'] = test_data['people'].mask((test_data.time_of_day >= \"09:00\") & (test_data.time_of_day < \"16:00\"),1)\n",
    "test_data['heat'] = test_data['heat'].mask((test_data.time_of_day >= \"09:00\") & (test_data.time_of_day < \"16:00\"),1)\n",
    "\n",
    "## 기상자료 머징 ##\n",
    "test_data = test_data.merge(atmos_data, how=\"left\",on = ['time_index'])\n",
    "\n",
    "## 저장 ##\n",
    "def name(i):\n",
    "    return test_list[i]\n",
    "\n",
    "test_list = sorted(glob(os.path.join(path,\"data\",\"sensing_data\",\"*\",\"*\")))\n",
    "test_list = list(map(os.path.basename,test_list))\n",
    "\n",
    "test_data[['T/D', '인덱스', '온도(℃)', '습도(%)', 'PM1.0(㎍/㎥)', 'PM2.5(㎍/㎥)', 'PM4.0(㎍/㎥)', 'PM10(㎍/㎥)', 'CO2(ppm)', 'TVOC(ppb)', '풍속(m/s)','풍향(16방위)','vent', 'people', 'heat']].to_csv(os.path.join(path,\"data\",\"labeled_data_atmos\",\"*\"), name_function=name, encoding='cp949')  \n"
   ]
  }
 ],
 "metadata": {
  "interpreter": {
   "hash": "9c56d6588016773a9a261ca696be21be523e85b6a015f86bf5fcaeb370621b0d"
  },
  "kernelspec": {
   "display_name": "Python 3.7.11 ('pro1')",
   "language": "python",
   "name": "python3"
  },
  "language_info": {
   "codemirror_mode": {
    "name": "ipython",
    "version": 3
   },
   "file_extension": ".py",
   "mimetype": "text/x-python",
   "name": "python",
   "nbconvert_exporter": "python",
   "pygments_lexer": "ipython3",
   "version": "3.7.11"
  },
  "orig_nbformat": 4
 },
 "nbformat": 4,
 "nbformat_minor": 2
}
